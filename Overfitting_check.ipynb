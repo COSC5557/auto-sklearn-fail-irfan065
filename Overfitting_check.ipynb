{
  "nbformat": 4,
  "nbformat_minor": 0,
  "metadata": {
    "colab": {
      "provenance": []
    },
    "kernelspec": {
      "name": "python3",
      "display_name": "Python 3"
    },
    "language_info": {
      "name": "python"
    }
  },
  "cells": [
    {
      "cell_type": "code",
      "execution_count": null,
      "metadata": {
        "id": "OLhSndB8OoiJ"
      },
      "outputs": [],
      "source": [
        "# please ignore the mess at the following 8-9 cells, I was trying everything to run auto-sklearn."
      ]
    },
    {
      "cell_type": "code",
      "execution_count": null,
      "metadata": {
        "id": "BkcxRCsEsOxP"
      },
      "outputs": [],
      "source": [
        "!pip install Cython==0.29.36\n",
        "!pip uninstall scipy -y\n",
        "!pip install scipy==1.9\n",
        "!pip uninstall pyparsing -y\n",
        "!pip install pyparsing==2.4\n",
        "!pip uninstall scikit_learn -y"
      ]
    },
    {
      "cell_type": "code",
      "source": [
        "!pip uninstall imbalanced-learn -y\n",
        "!pip uninstall mlxtend -y\n",
        "!pip uninstall yellowbrick -y"
      ],
      "metadata": {
        "id": "59C3YjQbsmiW"
      },
      "execution_count": null,
      "outputs": []
    },
    {
      "cell_type": "code",
      "source": [
        "!pip install scikit-learn==0.24.2 --no-build-isolation"
      ],
      "metadata": {
        "id": "qwvlUnqAst8p"
      },
      "execution_count": null,
      "outputs": []
    },
    {
      "cell_type": "code",
      "source": [
        "!pip install auto-sklearn"
      ],
      "metadata": {
        "id": "A0mZCmgWs00E"
      },
      "execution_count": null,
      "outputs": []
    },
    {
      "cell_type": "code",
      "source": [
        "import autosklearn"
      ],
      "metadata": {
        "id": "P5AlIIoKs5ik"
      },
      "execution_count": null,
      "outputs": []
    },
    {
      "cell_type": "code",
      "source": [
        "!pip uninstall scipy -y\n",
        "!pip install scipy==1.9"
      ],
      "metadata": {
        "id": "MVONZyZrs8tH"
      },
      "execution_count": null,
      "outputs": []
    },
    {
      "cell_type": "code",
      "source": [
        "!pip uninstall pyparsing -y\n",
        "!pip install pyparsing==2.4"
      ],
      "metadata": {
        "id": "-LbuBn-KtER6"
      },
      "execution_count": null,
      "outputs": []
    },
    {
      "cell_type": "code",
      "source": [
        "import autosklearn"
      ],
      "metadata": {
        "id": "RM5gI-JjtLrh"
      },
      "execution_count": null,
      "outputs": []
    },
    {
      "cell_type": "code",
      "source": [
        "!pip uninstall scikit_learn -y\n",
        "!pip install scikit-learn==0.24.2 --no-build-isolation"
      ],
      "metadata": {
        "id": "d2sROE6MtQUX"
      },
      "execution_count": null,
      "outputs": []
    },
    {
      "cell_type": "code",
      "source": [
        "import autosklearn\n",
        "import autosklearn.classification as classifier\n",
        "from autosklearn.metrics import (accuracy,\n",
        "                                 f1,\n",
        "                                 roc_auc,\n",
        "                                 precision,\n",
        "                                 average_precision,\n",
        "                                 recall,\n",
        "                                 log_loss)\n",
        "import autosklearn.regression"
      ],
      "metadata": {
        "id": "AMZ3ZgmKtaEH"
      },
      "execution_count": null,
      "outputs": []
    },
    {
      "cell_type": "code",
      "source": [
        "\n",
        "\n",
        "import sklearn.model_selection\n",
        "from sklearn.datasets import fetch_openml\n",
        "import sklearn.metrics\n",
        "from sklearn.ensemble import RandomForestClassifier\n",
        "from sklearn.preprocessing import OneHotEncoder\n",
        "from sklearn.model_selection import cross_val_predict\n",
        "\n",
        "X, y = fetch_openml(data_id=40691, as_frame=True, return_X_y=True)\n",
        "\n",
        "enc = OneHotEncoder(handle_unknown='ignore')\n",
        "X = enc.fit_transform(X)\n",
        "\n",
        "X_train, X_test, y_train, y_test = sklearn.model_selection.train_test_split(X, y, random_state=42)\n",
        "\n",
        "clf = RandomForestClassifier(random_state=42)\n",
        "clf.fit(X_train, y_train)\n",
        "y_hat_rf = clf.predict(X_test)\n",
        "rf_accuracy = sklearn.metrics.accuracy_score(y_test, y_hat_rf)\n",
        "print(\"RF Accuracy:\", rf_accuracy)\n",
        "\n",
        "from autosklearn.classification import AutoSklearnClassifier\n",
        "\n",
        "automl = AutoSklearnClassifier(time_left_for_this_task=100)\n",
        "automl.fit(X_train, y_train)\n",
        "\n",
        "y_train_pred_automl = automl.predict(X_train)\n",
        "y_test_pred_automl = automl.predict(X_test)\n",
        "\n",
        "\n",
        "print(\"Training Accuracy without CV:\", sklearn.metrics.accuracy_score(y_train, y_train_pred_automl))\n",
        "print(\"Test Accuracy without CV:\", sklearn.metrics.accuracy_score(y_test, y_test_pred_automl))\n",
        "\n",
        "\n",
        "automl = AutoSklearnClassifier(time_left_for_this_task=100, resampling_strategy='cv', resampling_strategy_arguments={'folds': 3})\n",
        "automl.fit(X_train, y_train)\n",
        "y_hat = automl.predict(X_test)\n",
        "y_train_automl = cross_val_predict(automl, X_train, y_train, cv=3)\n",
        "automl_train_accuracy = sklearn.metrics.accuracy_score(y_train, y_train_automl)\n",
        "print(\"AutoML Training Accuracy:\", automl_train_accuracy)\n",
        "print(\"AutoML Accuracy\", sklearn.metrics.accuracy_score(y_test, y_hat))\n",
        "\n",
        "print(automl.show_models())\n",
        "\n"
      ],
      "metadata": {
        "colab": {
          "base_uri": "https://localhost:8080/"
        },
        "id": "XBRZUmBnOOGQ",
        "outputId": "84db6492-652a-42c7-d091-a2f80bf27883"
      },
      "execution_count": 1,
      "outputs": [
        {
          "output_type": "stream",
          "name": "stdout",
          "text": [
            "RF Accuracy: 0.6525\n"
          ]
        },
        {
          "output_type": "stream",
          "name": "stderr",
          "text": [
            "/usr/local/lib/python3.10/dist-packages/autosklearn/data/target_validator.py:187: UserWarning: Fitting transformer with a pandas series which has the dtype category. Inverse transform may not be able preserve dtype when converting to np.ndarray\n",
            "  warnings.warn(\n"
          ]
        },
        {
          "output_type": "stream",
          "name": "stdout",
          "text": [
            "Training Accuracy without CV: 0.890742285237698\n",
            "Test Accuracy without CV: 0.61\n"
          ]
        },
        {
          "output_type": "stream",
          "name": "stderr",
          "text": [
            "/usr/local/lib/python3.10/dist-packages/autosklearn/data/target_validator.py:187: UserWarning: Fitting transformer with a pandas series which has the dtype category. Inverse transform may not be able preserve dtype when converting to np.ndarray\n",
            "  warnings.warn(\n",
            "/usr/local/lib/python3.10/dist-packages/autosklearn/data/target_validator.py:187: UserWarning: Fitting transformer with a pandas series which has the dtype category. Inverse transform may not be able preserve dtype when converting to np.ndarray\n",
            "  warnings.warn(\n",
            "/usr/local/lib/python3.10/dist-packages/autosklearn/data/target_validator.py:187: UserWarning: Fitting transformer with a pandas series which has the dtype category. Inverse transform may not be able preserve dtype when converting to np.ndarray\n",
            "  warnings.warn(\n",
            "/usr/local/lib/python3.10/dist-packages/autosklearn/data/target_validator.py:187: UserWarning: Fitting transformer with a pandas series which has the dtype category. Inverse transform may not be able preserve dtype when converting to np.ndarray\n",
            "  warnings.warn(\n"
          ]
        },
        {
          "output_type": "stream",
          "name": "stdout",
          "text": [
            "AutoML Training Accuracy: 0.6030025020850709\n",
            "AutoML Accuracy 0.6475\n",
            "{2: {'model_id': 2, 'rank': 1, 'cost': 0.39366138448707255, 'ensemble_weight': 0.36, 'voting_model': VotingClassifier(estimators=None, voting='soft'), 'estimators': [{'data_preprocessor': <autosklearn.pipeline.components.data_preprocessing.DataPreprocessorChoice object at 0x7c34991b4eb0>, 'balancing': Balancing(random_state=1), 'feature_preprocessor': <autosklearn.pipeline.components.feature_preprocessing.FeaturePreprocessorChoice object at 0x7c34995a6020>, 'classifier': <autosklearn.pipeline.components.classification.ClassifierChoice object at 0x7c34995a6590>, 'sklearn_classifier': RandomForestClassifier(max_features=34, n_estimators=512, n_jobs=1,\n",
            "                       random_state=1, warm_start=True)}, {'data_preprocessor': <autosklearn.pipeline.components.data_preprocessing.DataPreprocessorChoice object at 0x7c349985e3e0>, 'balancing': Balancing(random_state=1), 'feature_preprocessor': <autosklearn.pipeline.components.feature_preprocessing.FeaturePreprocessorChoice object at 0x7c34989bfa60>, 'classifier': <autosklearn.pipeline.components.classification.ClassifierChoice object at 0x7c34989bf760>, 'sklearn_classifier': RandomForestClassifier(max_features=34, n_estimators=512, n_jobs=1,\n",
            "                       random_state=1, warm_start=True)}, {'data_preprocessor': <autosklearn.pipeline.components.data_preprocessing.DataPreprocessorChoice object at 0x7c3492df5bd0>, 'balancing': Balancing(random_state=1), 'feature_preprocessor': <autosklearn.pipeline.components.feature_preprocessing.FeaturePreprocessorChoice object at 0x7c3492df77f0>, 'classifier': <autosklearn.pipeline.components.classification.ClassifierChoice object at 0x7c3492df78b0>, 'sklearn_classifier': RandomForestClassifier(max_features=34, n_estimators=512, n_jobs=1,\n",
            "                       random_state=1, warm_start=True)}]}, 5: {'model_id': 5, 'rank': 2, 'cost': 0.4428690575479566, 'ensemble_weight': 0.18, 'voting_model': VotingClassifier(estimators=None, voting='soft'), 'estimators': [{'data_preprocessor': <autosklearn.pipeline.components.data_preprocessing.DataPreprocessorChoice object at 0x7c3499827d90>, 'balancing': Balancing(random_state=1), 'feature_preprocessor': <autosklearn.pipeline.components.feature_preprocessing.FeaturePreprocessorChoice object at 0x7c349962edd0>, 'classifier': <autosklearn.pipeline.components.classification.ClassifierChoice object at 0x7c349962e8f0>, 'sklearn_classifier': RandomForestClassifier(max_features=32, min_samples_leaf=4, n_estimators=512,\n",
            "                       n_jobs=1, random_state=1, warm_start=True)}, {'data_preprocessor': <autosklearn.pipeline.components.data_preprocessing.DataPreprocessorChoice object at 0x7c349943dbd0>, 'balancing': Balancing(random_state=1), 'feature_preprocessor': <autosklearn.pipeline.components.feature_preprocessing.FeaturePreprocessorChoice object at 0x7c349943f940>, 'classifier': <autosklearn.pipeline.components.classification.ClassifierChoice object at 0x7c349943d480>, 'sklearn_classifier': RandomForestClassifier(max_features=32, min_samples_leaf=4, n_estimators=512,\n",
            "                       n_jobs=1, random_state=1, warm_start=True)}, {'data_preprocessor': <autosklearn.pipeline.components.data_preprocessing.DataPreprocessorChoice object at 0x7c3492d75240>, 'balancing': Balancing(random_state=1), 'feature_preprocessor': <autosklearn.pipeline.components.feature_preprocessing.FeaturePreprocessorChoice object at 0x7c3492d77040>, 'classifier': <autosklearn.pipeline.components.classification.ClassifierChoice object at 0x7c3492d77100>, 'sklearn_classifier': RandomForestClassifier(max_features=32, min_samples_leaf=4, n_estimators=512,\n",
            "                       n_jobs=1, random_state=1, warm_start=True)}]}, 8: {'model_id': 8, 'rank': 3, 'cost': 0.4161801501251043, 'ensemble_weight': 0.46, 'voting_model': VotingClassifier(estimators=None, voting='soft'), 'estimators': [{'data_preprocessor': <autosklearn.pipeline.components.data_preprocessing.DataPreprocessorChoice object at 0x7c349962de40>, 'balancing': Balancing(random_state=1), 'feature_preprocessor': <autosklearn.pipeline.components.feature_preprocessing.FeaturePreprocessorChoice object at 0x7c3499614ee0>, 'classifier': <autosklearn.pipeline.components.classification.ClassifierChoice object at 0x7c34996172e0>, 'sklearn_classifier': RandomForestClassifier(bootstrap=False, criterion='entropy', max_features=1,\n",
            "                       n_estimators=512, n_jobs=1, random_state=1,\n",
            "                       warm_start=True)}, {'data_preprocessor': <autosklearn.pipeline.components.data_preprocessing.DataPreprocessorChoice object at 0x7c34993b1540>, 'balancing': Balancing(random_state=1), 'feature_preprocessor': <autosklearn.pipeline.components.feature_preprocessing.FeaturePreprocessorChoice object at 0x7c34993b31f0>, 'classifier': <autosklearn.pipeline.components.classification.ClassifierChoice object at 0x7c34993b36a0>, 'sklearn_classifier': RandomForestClassifier(bootstrap=False, criterion='entropy', max_features=1,\n",
            "                       n_estimators=512, n_jobs=1, random_state=1,\n",
            "                       warm_start=True)}, {'data_preprocessor': <autosklearn.pipeline.components.data_preprocessing.DataPreprocessorChoice object at 0x7c3498943910>, 'balancing': Balancing(random_state=1), 'feature_preprocessor': <autosklearn.pipeline.components.feature_preprocessing.FeaturePreprocessorChoice object at 0x7c3498a0e3e0>, 'classifier': <autosklearn.pipeline.components.classification.ClassifierChoice object at 0x7c3498a0e560>, 'sklearn_classifier': RandomForestClassifier(bootstrap=False, criterion='entropy', max_features=1,\n",
            "                       n_estimators=512, n_jobs=1, random_state=1,\n",
            "                       warm_start=True)}]}}\n"
          ]
        }
      ]
    }
  ]
}