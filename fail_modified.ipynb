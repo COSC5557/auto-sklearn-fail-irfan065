{
  "nbformat": 4,
  "nbformat_minor": 0,
  "metadata": {
    "colab": {
      "provenance": []
    },
    "kernelspec": {
      "name": "python3",
      "display_name": "Python 3"
    },
    "language_info": {
      "name": "python"
    }
  },
  "cells": [
    {
      "cell_type": "code",
      "execution_count": null,
      "metadata": {
        "id": "OLhSndB8OoiJ"
      },
      "outputs": [],
      "source": [
        "# please ignore the mess at the following 8-9 cells, I was trying everything to run auto-sklearn."
      ]
    },
    {
      "cell_type": "code",
      "execution_count": null,
      "metadata": {
        "id": "BkcxRCsEsOxP"
      },
      "outputs": [],
      "source": [
        "!pip install Cython==0.29.36\n",
        "!pip uninstall scipy -y\n",
        "!pip install scipy==1.9\n",
        "!pip uninstall pyparsing -y\n",
        "!pip install pyparsing==2.4\n",
        "!pip uninstall scikit_learn -y"
      ]
    },
    {
      "cell_type": "code",
      "source": [
        "!pip uninstall imbalanced-learn -y\n",
        "!pip uninstall mlxtend -y\n",
        "!pip uninstall yellowbrick -y"
      ],
      "metadata": {
        "id": "59C3YjQbsmiW"
      },
      "execution_count": null,
      "outputs": []
    },
    {
      "cell_type": "code",
      "source": [
        "!pip install scikit-learn==0.24.2 --no-build-isolation"
      ],
      "metadata": {
        "id": "qwvlUnqAst8p"
      },
      "execution_count": null,
      "outputs": []
    },
    {
      "cell_type": "code",
      "source": [
        "!pip install auto-sklearn"
      ],
      "metadata": {
        "id": "A0mZCmgWs00E"
      },
      "execution_count": null,
      "outputs": []
    },
    {
      "cell_type": "code",
      "source": [
        "import autosklearn"
      ],
      "metadata": {
        "id": "P5AlIIoKs5ik"
      },
      "execution_count": 1,
      "outputs": []
    },
    {
      "cell_type": "code",
      "source": [
        "!pip uninstall scipy -y\n",
        "!pip install scipy==1.9"
      ],
      "metadata": {
        "id": "MVONZyZrs8tH"
      },
      "execution_count": null,
      "outputs": []
    },
    {
      "cell_type": "code",
      "source": [
        "!pip uninstall pyparsing -y\n",
        "!pip install pyparsing==2.4"
      ],
      "metadata": {
        "id": "-LbuBn-KtER6"
      },
      "execution_count": null,
      "outputs": []
    },
    {
      "cell_type": "code",
      "source": [
        "import autosklearn"
      ],
      "metadata": {
        "id": "RM5gI-JjtLrh"
      },
      "execution_count": null,
      "outputs": []
    },
    {
      "cell_type": "code",
      "source": [
        "!pip uninstall scikit_learn -y\n",
        "!pip install scikit-learn==0.24.2 --no-build-isolation"
      ],
      "metadata": {
        "id": "d2sROE6MtQUX"
      },
      "execution_count": null,
      "outputs": []
    },
    {
      "cell_type": "code",
      "source": [
        "import autosklearn\n",
        "import autosklearn.classification as classifier\n",
        "from autosklearn.metrics import (accuracy,\n",
        "                                 f1,\n",
        "                                 roc_auc,\n",
        "                                 precision,\n",
        "                                 average_precision,\n",
        "                                 recall,\n",
        "                                 log_loss)\n",
        "import autosklearn.regression"
      ],
      "metadata": {
        "id": "AMZ3ZgmKtaEH"
      },
      "execution_count": null,
      "outputs": []
    },
    {
      "cell_type": "code",
      "source": [
        "import sklearn.model_selection\n",
        "from sklearn.datasets import fetch_openml\n",
        "import sklearn.metrics\n",
        "from sklearn.ensemble import RandomForestClassifier\n",
        "from sklearn.preprocessing import OneHotEncoder\n",
        "\n",
        "X, y = fetch_openml(data_id=40691, as_frame=True, return_X_y=True)\n",
        "\n",
        "enc = OneHotEncoder(handle_unknown='ignore')\n",
        "X = enc.fit_transform(X)\n",
        "\n",
        "X_train, X_test, y_train, y_test = sklearn.model_selection.train_test_split(X, y, random_state=42)\n",
        "\n",
        "clf = RandomForestClassifier(random_state=42)\n",
        "clf.fit(X_train, y_train)\n",
        "y_hat_rf = clf.predict(X_test)\n",
        "rf_accuracy = sklearn.metrics.accuracy_score(y_test, y_hat_rf)\n",
        "print(\"RF Accuracy:\", rf_accuracy)\n",
        "\n",
        "from autosklearn.classification import AutoSklearnClassifier\n",
        "automl = AutoSklearnClassifier(time_left_for_this_task=300, per_run_time_limit=100, resampling_strategy='cv', resampling_strategy_arguments={'folds': 3})\n",
        "automl.fit(X_train, y_train)\n",
        "y_hat = automl.predict(X_test)\n",
        "print(\"AutoML Accuracy\", sklearn.metrics.accuracy_score(y_test, y_hat))\n",
        "\n",
        "print(automl.show_models())"
      ],
      "metadata": {
        "id": "tPojsSYEwEKa",
        "colab": {
          "base_uri": "https://localhost:8080/"
        },
        "outputId": "51d8da99-c9ad-4802-999f-3a9af955821f"
      },
      "execution_count": 7,
      "outputs": [
        {
          "output_type": "stream",
          "name": "stdout",
          "text": [
            "RF Accuracy: 0.6525\n"
          ]
        },
        {
          "output_type": "stream",
          "name": "stderr",
          "text": [
            "/usr/local/lib/python3.10/dist-packages/autosklearn/data/target_validator.py:187: UserWarning: Fitting transformer with a pandas series which has the dtype category. Inverse transform may not be able preserve dtype when converting to np.ndarray\n",
            "  warnings.warn(\n"
          ]
        },
        {
          "output_type": "stream",
          "name": "stdout",
          "text": [
            "AutoML Accuracy 0.685\n",
            "{2: {'model_id': 2, 'rank': 1, 'cost': 0.39366138448707255, 'ensemble_weight': 0.04, 'voting_model': VotingClassifier(estimators=None, voting='soft'), 'estimators': [{'data_preprocessor': <autosklearn.pipeline.components.data_preprocessing.DataPreprocessorChoice object at 0x7bd72a222bf0>, 'balancing': Balancing(random_state=1), 'feature_preprocessor': <autosklearn.pipeline.components.feature_preprocessing.FeaturePreprocessorChoice object at 0x7bd72a221b70>, 'classifier': <autosklearn.pipeline.components.classification.ClassifierChoice object at 0x7bd72a220430>, 'sklearn_classifier': RandomForestClassifier(max_features=34, n_estimators=512, n_jobs=1,\n",
            "                       random_state=1, warm_start=True)}, {'data_preprocessor': <autosklearn.pipeline.components.data_preprocessing.DataPreprocessorChoice object at 0x7bd7277b0760>, 'balancing': Balancing(random_state=1), 'feature_preprocessor': <autosklearn.pipeline.components.feature_preprocessing.FeaturePreprocessorChoice object at 0x7bd72a0a91e0>, 'classifier': <autosklearn.pipeline.components.classification.ClassifierChoice object at 0x7bd72a0a8400>, 'sklearn_classifier': RandomForestClassifier(max_features=34, n_estimators=512, n_jobs=1,\n",
            "                       random_state=1, warm_start=True)}, {'data_preprocessor': <autosklearn.pipeline.components.data_preprocessing.DataPreprocessorChoice object at 0x7bd727770490>, 'balancing': Balancing(random_state=1), 'feature_preprocessor': <autosklearn.pipeline.components.feature_preprocessing.FeaturePreprocessorChoice object at 0x7bd72f0f3790>, 'classifier': <autosklearn.pipeline.components.classification.ClassifierChoice object at 0x7bd72f0f14e0>, 'sklearn_classifier': RandomForestClassifier(max_features=34, n_estimators=512, n_jobs=1,\n",
            "                       random_state=1, warm_start=True)}]}, 5: {'model_id': 5, 'rank': 2, 'cost': 0.4428690575479566, 'ensemble_weight': 0.06, 'voting_model': VotingClassifier(estimators=None, voting='soft'), 'estimators': [{'data_preprocessor': <autosklearn.pipeline.components.data_preprocessing.DataPreprocessorChoice object at 0x7bd72a222ad0>, 'balancing': Balancing(random_state=1), 'feature_preprocessor': <autosklearn.pipeline.components.feature_preprocessing.FeaturePreprocessorChoice object at 0x7bd72a2227d0>, 'classifier': <autosklearn.pipeline.components.classification.ClassifierChoice object at 0x7bd72a2235b0>, 'sklearn_classifier': RandomForestClassifier(max_features=32, min_samples_leaf=4, n_estimators=512,\n",
            "                       n_jobs=1, random_state=1, warm_start=True)}, {'data_preprocessor': <autosklearn.pipeline.components.data_preprocessing.DataPreprocessorChoice object at 0x7bd731dc2080>, 'balancing': Balancing(random_state=1), 'feature_preprocessor': <autosklearn.pipeline.components.feature_preprocessing.FeaturePreprocessorChoice object at 0x7bd731f45b70>, 'classifier': <autosklearn.pipeline.components.classification.ClassifierChoice object at 0x7bd731f46ef0>, 'sklearn_classifier': RandomForestClassifier(max_features=32, min_samples_leaf=4, n_estimators=512,\n",
            "                       n_jobs=1, random_state=1, warm_start=True)}, {'data_preprocessor': <autosklearn.pipeline.components.data_preprocessing.DataPreprocessorChoice object at 0x7bd7262b7370>, 'balancing': Balancing(random_state=1), 'feature_preprocessor': <autosklearn.pipeline.components.feature_preprocessing.FeaturePreprocessorChoice object at 0x7bd7277728f0>, 'classifier': <autosklearn.pipeline.components.classification.ClassifierChoice object at 0x7bd727771a20>, 'sklearn_classifier': RandomForestClassifier(max_features=32, min_samples_leaf=4, n_estimators=512,\n",
            "                       n_jobs=1, random_state=1, warm_start=True)}]}, 8: {'model_id': 8, 'rank': 3, 'cost': 0.4161801501251043, 'ensemble_weight': 0.2, 'voting_model': VotingClassifier(estimators=None, voting='soft'), 'estimators': [{'data_preprocessor': <autosklearn.pipeline.components.data_preprocessing.DataPreprocessorChoice object at 0x7bd72a220cd0>, 'balancing': Balancing(random_state=1), 'feature_preprocessor': <autosklearn.pipeline.components.feature_preprocessing.FeaturePreprocessorChoice object at 0x7bd72a0e1c00>, 'classifier': <autosklearn.pipeline.components.classification.ClassifierChoice object at 0x7bd72a0e2590>, 'sklearn_classifier': RandomForestClassifier(bootstrap=False, criterion='entropy', max_features=1,\n",
            "                       n_estimators=512, n_jobs=1, random_state=1,\n",
            "                       warm_start=True)}, {'data_preprocessor': <autosklearn.pipeline.components.data_preprocessing.DataPreprocessorChoice object at 0x7bd7277b3310>, 'balancing': Balancing(random_state=1), 'feature_preprocessor': <autosklearn.pipeline.components.feature_preprocessing.FeaturePreprocessorChoice object at 0x7bd72a0abfa0>, 'classifier': <autosklearn.pipeline.components.classification.ClassifierChoice object at 0x7bd72a0a8cd0>, 'sklearn_classifier': RandomForestClassifier(bootstrap=False, criterion='entropy', max_features=1,\n",
            "                       n_estimators=512, n_jobs=1, random_state=1,\n",
            "                       warm_start=True)}, {'data_preprocessor': <autosklearn.pipeline.components.data_preprocessing.DataPreprocessorChoice object at 0x7bd7268a6800>, 'balancing': Balancing(random_state=1), 'feature_preprocessor': <autosklearn.pipeline.components.feature_preprocessing.FeaturePreprocessorChoice object at 0x7bd7268b1870>, 'classifier': <autosklearn.pipeline.components.classification.ClassifierChoice object at 0x7bd7268b1c30>, 'sklearn_classifier': RandomForestClassifier(bootstrap=False, criterion='entropy', max_features=1,\n",
            "                       n_estimators=512, n_jobs=1, random_state=1,\n",
            "                       warm_start=True)}]}, 9: {'model_id': 9, 'rank': 4, 'cost': 0.37781484570475393, 'ensemble_weight': 0.24, 'voting_model': VotingClassifier(estimators=None, voting='soft'), 'estimators': [{'data_preprocessor': <autosklearn.pipeline.components.data_preprocessing.DataPreprocessorChoice object at 0x7bd72a0e38b0>, 'balancing': Balancing(random_state=1), 'feature_preprocessor': <autosklearn.pipeline.components.feature_preprocessing.FeaturePreprocessorChoice object at 0x7bd731da4be0>, 'classifier': <autosklearn.pipeline.components.classification.ClassifierChoice object at 0x7bd731da5120>, 'sklearn_classifier': RandomForestClassifier(bootstrap=False, criterion='entropy', max_features=211,\n",
            "                       min_samples_split=5, n_estimators=512, n_jobs=1,\n",
            "                       random_state=1, warm_start=True)}, {'data_preprocessor': <autosklearn.pipeline.components.data_preprocessing.DataPreprocessorChoice object at 0x7bd72fbc0b20>, 'balancing': Balancing(random_state=1), 'feature_preprocessor': <autosklearn.pipeline.components.feature_preprocessing.FeaturePreprocessorChoice object at 0x7bd72fbc35e0>, 'classifier': <autosklearn.pipeline.components.classification.ClassifierChoice object at 0x7bd72fbc1ae0>, 'sklearn_classifier': RandomForestClassifier(bootstrap=False, criterion='entropy', max_features=210,\n",
            "                       min_samples_split=5, n_estimators=512, n_jobs=1,\n",
            "                       random_state=1, warm_start=True)}, {'data_preprocessor': <autosklearn.pipeline.components.data_preprocessing.DataPreprocessorChoice object at 0x7bd72fdf8bb0>, 'balancing': Balancing(random_state=1), 'feature_preprocessor': <autosklearn.pipeline.components.feature_preprocessing.FeaturePreprocessorChoice object at 0x7bd72fdfb910>, 'classifier': <autosklearn.pipeline.components.classification.ClassifierChoice object at 0x7bd72fdfbbb0>, 'sklearn_classifier': RandomForestClassifier(bootstrap=False, criterion='entropy', max_features=212,\n",
            "                       min_samples_split=5, n_estimators=512, n_jobs=1,\n",
            "                       random_state=1, warm_start=True)}]}, 11: {'model_id': 11, 'rank': 5, 'cost': 0.38782318598832355, 'ensemble_weight': 0.2, 'voting_model': VotingClassifier(estimators=None, voting='soft'), 'estimators': [{'data_preprocessor': <autosklearn.pipeline.components.data_preprocessing.DataPreprocessorChoice object at 0x7bd72a0e2fe0>, 'balancing': Balancing(random_state=1, strategy='weighting'), 'feature_preprocessor': <autosklearn.pipeline.components.feature_preprocessing.FeaturePreprocessorChoice object at 0x7bd731be0730>, 'classifier': <autosklearn.pipeline.components.classification.ClassifierChoice object at 0x7bd731be26e0>, 'sklearn_classifier': RandomForestClassifier(bootstrap=False, criterion='entropy', max_features=34,\n",
            "                       n_estimators=512, n_jobs=1, random_state=1,\n",
            "                       warm_start=True)}, {'data_preprocessor': <autosklearn.pipeline.components.data_preprocessing.DataPreprocessorChoice object at 0x7bd7262b43d0>, 'balancing': Balancing(random_state=1, strategy='weighting'), 'feature_preprocessor': <autosklearn.pipeline.components.feature_preprocessing.FeaturePreprocessorChoice object at 0x7bd727771d50>, 'classifier': <autosklearn.pipeline.components.classification.ClassifierChoice object at 0x7bd727771360>, 'sklearn_classifier': RandomForestClassifier(bootstrap=False, criterion='entropy', max_features=34,\n",
            "                       n_estimators=512, n_jobs=1, random_state=1,\n",
            "                       warm_start=True)}, {'data_preprocessor': <autosklearn.pipeline.components.data_preprocessing.DataPreprocessorChoice object at 0x7bd726575780>, 'balancing': Balancing(random_state=1, strategy='weighting'), 'feature_preprocessor': <autosklearn.pipeline.components.feature_preprocessing.FeaturePreprocessorChoice object at 0x7bd7266302b0>, 'classifier': <autosklearn.pipeline.components.classification.ClassifierChoice object at 0x7bd7266303d0>, 'sklearn_classifier': RandomForestClassifier(bootstrap=False, criterion='entropy', max_features=34,\n",
            "                       n_estimators=512, n_jobs=1, random_state=1,\n",
            "                       warm_start=True)}]}, 12: {'model_id': 12, 'rank': 6, 'cost': 0.4745621351125938, 'ensemble_weight': 0.02, 'voting_model': VotingClassifier(estimators=None, voting='soft'), 'estimators': [{'data_preprocessor': <autosklearn.pipeline.components.data_preprocessing.DataPreprocessorChoice object at 0x7bd72a0e0820>, 'balancing': Balancing(random_state=1), 'feature_preprocessor': <autosklearn.pipeline.components.feature_preprocessing.FeaturePreprocessorChoice object at 0x7bd731f470d0>, 'classifier': <autosklearn.pipeline.components.classification.ClassifierChoice object at 0x7bd731f45e40>, 'sklearn_classifier': MLPClassifier(activation='tanh', alpha=3.198483470889531e-06, beta_1=0.999,\n",
            "              beta_2=0.9, hidden_layer_sizes=(24, 24),\n",
            "              learning_rate_init=0.006604847357173181, max_iter=32,\n",
            "              n_iter_no_change=32, random_state=1, validation_fraction=0.0,\n",
            "              verbose=0, warm_start=True)}, {'data_preprocessor': <autosklearn.pipeline.components.data_preprocessing.DataPreprocessorChoice object at 0x7bd730ac8580>, 'balancing': Balancing(random_state=1), 'feature_preprocessor': <autosklearn.pipeline.components.feature_preprocessing.FeaturePreprocessorChoice object at 0x7bd7262b5450>, 'classifier': <autosklearn.pipeline.components.classification.ClassifierChoice object at 0x7bd7262b4280>, 'sklearn_classifier': MLPClassifier(activation='tanh', alpha=3.198483470889531e-06, beta_1=0.999,\n",
            "              beta_2=0.9, hidden_layer_sizes=(24, 24),\n",
            "              learning_rate_init=0.006604847357173181, max_iter=32,\n",
            "              n_iter_no_change=32, random_state=1, validation_fraction=0.0,\n",
            "              verbose=0, warm_start=True)}, {'data_preprocessor': <autosklearn.pipeline.components.data_preprocessing.DataPreprocessorChoice object at 0x7bd7261651b0>, 'balancing': Balancing(random_state=1), 'feature_preprocessor': <autosklearn.pipeline.components.feature_preprocessing.FeaturePreprocessorChoice object at 0x7bd730b0d630>, 'classifier': <autosklearn.pipeline.components.classification.ClassifierChoice object at 0x7bd730b0ff40>, 'sklearn_classifier': MLPClassifier(activation='tanh', alpha=3.198483470889531e-06, beta_1=0.999,\n",
            "              beta_2=0.9, hidden_layer_sizes=(24, 24),\n",
            "              learning_rate_init=0.006604847357173181, max_iter=32,\n",
            "              n_iter_no_change=32, random_state=1, validation_fraction=0.0,\n",
            "              verbose=0, warm_start=True)}]}, 15: {'model_id': 15, 'rank': 7, 'cost': 0.37531276063386154, 'ensemble_weight': 0.24, 'voting_model': VotingClassifier(estimators=None, voting='soft'), 'estimators': [{'data_preprocessor': <autosklearn.pipeline.components.data_preprocessing.DataPreprocessorChoice object at 0x7bd731da45b0>, 'balancing': Balancing(random_state=1, strategy='weighting'), 'feature_preprocessor': <autosklearn.pipeline.components.feature_preprocessing.FeaturePreprocessorChoice object at 0x7bd72a0a8940>, 'classifier': <autosklearn.pipeline.components.classification.ClassifierChoice object at 0x7bd72a0a92a0>, 'sklearn_classifier': RandomForestClassifier(bootstrap=False, max_features=29, n_estimators=512,\n",
            "                       n_jobs=1, random_state=1, warm_start=True)}, {'data_preprocessor': <autosklearn.pipeline.components.data_preprocessing.DataPreprocessorChoice object at 0x7bd72e34a9e0>, 'balancing': Balancing(random_state=1, strategy='weighting'), 'feature_preprocessor': <autosklearn.pipeline.components.feature_preprocessing.FeaturePreprocessorChoice object at 0x7bd726577f40>, 'classifier': <autosklearn.pipeline.components.classification.ClassifierChoice object at 0x7bd726574190>, 'sklearn_classifier': RandomForestClassifier(bootstrap=False, max_features=29, n_estimators=512,\n",
            "                       n_jobs=1, random_state=1, warm_start=True)}, {'data_preprocessor': <autosklearn.pipeline.components.data_preprocessing.DataPreprocessorChoice object at 0x7bd70cbc09a0>, 'balancing': Balancing(random_state=1, strategy='weighting'), 'feature_preprocessor': <autosklearn.pipeline.components.feature_preprocessing.FeaturePreprocessorChoice object at 0x7bd72d97af80>, 'classifier': <autosklearn.pipeline.components.classification.ClassifierChoice object at 0x7bd72d97ae60>, 'sklearn_classifier': RandomForestClassifier(bootstrap=False, max_features=29, n_estimators=512,\n",
            "                       n_jobs=1, random_state=1, warm_start=True)}]}}\n"
          ]
        }
      ]
    }
  ]
}